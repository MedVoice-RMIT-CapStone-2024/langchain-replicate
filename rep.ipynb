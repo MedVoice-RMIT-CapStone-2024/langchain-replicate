{
 "cells": [
  {
   "cell_type": "code",
   "execution_count": 34,
   "metadata": {},
   "outputs": [
    {
     "name": "stdout",
     "output_type": "stream",
     "text": [
      "The autoreload extension is already loaded. To reload it, use:\n",
      "  %reload_ext autoreload\n"
     ]
    }
   ],
   "source": [
    "# magics to auto-reload external modules in case you are making changes to langchain while working on this notebook\n",
    "%load_ext autoreload\n",
    "%autoreload 2"
   ]
  },
  {
   "cell_type": "code",
   "execution_count": 35,
   "metadata": {},
   "outputs": [],
   "source": [
    "# get a token: https://replicate.com/account\n",
    "\n",
    "from getpass import getpass\n",
    "\n",
    "REPLICATE_API_TOKEN = getpass()"
   ]
  },
  {
   "cell_type": "code",
   "execution_count": 36,
   "metadata": {},
   "outputs": [],
   "source": [
    "import os\n",
    "\n",
    "os.environ[\"REPLICATE_API_TOKEN\"] = REPLICATE_API_TOKEN"
   ]
  },
  {
   "cell_type": "code",
   "execution_count": 37,
   "metadata": {},
   "outputs": [],
   "source": [
    "from langchain.chains import LLMChain\n",
    "from langchain_community.llms import Replicate\n",
    "from langchain_core.prompts import PromptTemplate"
   ]
  },
  {
   "cell_type": "code",
   "execution_count": 39,
   "metadata": {},
   "outputs": [
    {
     "data": {
      "text/plain": [
       "'{ \"Id\": 5899, \"age\": 20, \"diagnosis\": \"headache\", \"gender\": \"male\" ,\"name\": \"Alex\" } '"
      ]
     },
     "execution_count": 39,
     "metadata": {},
     "output_type": "execute_result"
    }
   ],
   "source": [
    "input = {\n",
    "    \"prompt\": \"Send a email from andreas86@telia.se to myfriend@telia.se where you discuss the weather. In the body, describe the current weather in Stockholm as detailed as possible.\\n\\nRespond with json that adheres to the following jsonschema:\\n\\n{jsonschema}\",\n",
    "    \"grammar\": \"\",\n",
    "    \"jsonschema\": \"{\\n \\\"type\\\": \\\"object\\\", \\n \\\"properties\\\": {\\n \\\"Id\\\" : {  \\\"type\\\" : \\\"integer\\\"}, \\n \\\"name\\\" : {\\n \\\"type\\\" : \\\"string\\\"}, \\n \\\"age\\\" : {\\n \\\"type\\\" : \\\"integer\\\"}, \\n \\\"gender\\\" : {\\n \\\"type\\\" : \\\"string\\\" }, \\n \\\"diagnosis\\\" : {\\n \\\"type\\\" : \\\"string\\\" }} }\"\n",
    "}\n",
    "\n",
    "llm = Replicate(\n",
    "    model=\"andreasjansson/llama-2-13b-chat-gguf:60ec5dda9ff9ee0b6f786c9d1157842e6ab3cc931139ad98fe99e08a35c5d4d4\",\n",
    "    model_kwargs={\"temperature\": 0.75, \"max_length\": 500, \"top_p\": 1, \"jsonschema\": \"{\\n \\\"type\\\": \\\"object\\\", \\n \\\"properties\\\": {\\n \\\"Id\\\" : {  \\\"type\\\" : \\\"integer\\\"}, \\n \\\"name\\\" : {\\n \\\"type\\\" : \\\"string\\\"}, \\n \\\"age\\\" : {\\n \\\"type\\\" : \\\"integer\\\"}, \\n \\\"gender\\\" : {\\n \\\"type\\\" : \\\"string\\\" }, \\n \\\"diagnosis\\\" : {\\n \\\"type\\\" : \\\"string\\\" }} }\"},\n",
    ")\n",
    "prompt = \"\"\"\n",
    "User: A male patient Alex is 20 years old have headache. Tell me what is the patient name, age, gender, and diagnosis\n",
    "\"\"\"\n",
    "llm(prompt)"
   ]
  },
  {
   "cell_type": "code",
   "execution_count": 40,
   "metadata": {},
   "outputs": [
    {
     "name": "stdout",
     "output_type": "stream",
     "text": [
      "{ \"Id\": 1, \"age\": 20, \"diagnosis\": \"headache\", \"gender\": \"male\" ,\"name\": \"Alex\"}"
     ]
    }
   ],
   "source": [
    "from langchain.callbacks.streaming_stdout import StreamingStdOutCallbackHandler\n",
    "\n",
    "llm = Replicate(\n",
    "    streaming=True,\n",
    "    callbacks=[StreamingStdOutCallbackHandler()],\n",
    "    model=\"andreasjansson/llama-2-13b-chat-gguf:60ec5dda9ff9ee0b6f786c9d1157842e6ab3cc931139ad98fe99e08a35c5d4d4\",\n",
    "    model_kwargs={\"temperature\": 0.75, \"max_length\": 500, \"top_p\": 1, \"jsonschema\": \"{\\n \\\"type\\\": \\\"object\\\", \\n \\\"properties\\\": {\\n \\\"Id\\\" : {  \\\"type\\\" : \\\"integer\\\"}, \\n \\\"name\\\" : {\\n \\\"type\\\" : \\\"string\\\"}, \\n \\\"age\\\" : {\\n \\\"type\\\" : \\\"integer\\\"}, \\n \\\"gender\\\" : {\\n \\\"type\\\" : \\\"string\\\" }, \\n \\\"diagnosis\\\" : {\\n \\\"type\\\" : \\\"string\\\" }} }\"},\n",
    ")\n",
    "prompt = \"\"\"\n",
    "User: A male patient Alex is 20 years old have headache. Tell me what is the patient name, age, gender, and diagnosis\n",
    "Assistant:\n",
    "\"\"\"\n",
    "_ = llm.invoke(prompt)"
   ]
  }
 ],
 "metadata": {
  "kernelspec": {
   "display_name": ".venv",
   "language": "python",
   "name": "python3"
  },
  "language_info": {
   "codemirror_mode": {
    "name": "ipython",
    "version": 3
   },
   "file_extension": ".py",
   "mimetype": "text/x-python",
   "name": "python",
   "nbconvert_exporter": "python",
   "pygments_lexer": "ipython3",
   "version": "3.12.3"
  }
 },
 "nbformat": 4,
 "nbformat_minor": 2
}
